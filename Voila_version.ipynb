{
 "cells": [
  {
   "cell_type": "code",
   "execution_count": 1,
   "metadata": {},
   "outputs": [],
   "source": [
    "import warnings\n",
    "warnings.filterwarnings(\"ignore\")"
   ]
  },
  {
   "cell_type": "code",
   "execution_count": 2,
   "metadata": {},
   "outputs": [],
   "source": [
    "import pandas as pd\n",
    "import ipywidgets as widgets\n",
    "from IPython.display import display\n",
    "from colorama import Fore, Back, Style\n",
    "from tqdm import tqdm_notebook as tqdm\n",
    "from IPython.display import FileLink, FileLinks\n",
    "from IPython.display import HTML\n",
    "import base64\n",
    "output = widgets.Output()\n",
    "newseq = []\n",
    "newnewseq = []"
   ]
  },
  {
   "cell_type": "code",
   "execution_count": 3,
   "metadata": {},
   "outputs": [],
   "source": [
    "molecular_weight = {\n",
    "    'A': 71.0788,\n",
    "    'E': 129.1155,\n",
    "    'R': 156.1875,\n",
    "    'N': 114.1038,\n",
    "    'D': 115.0886,\n",
    "    'C': 103.1388, \n",
    "    'Q': 128.1307, \n",
    "    'G': 57.0519,\n",
    "    'H': 137.1411,\n",
    "    'I': 113.1594,\n",
    "    'L': 113.1594,\n",
    "    'M': 131.1926,\n",
    "    'F': 147.1766,\n",
    "    'P': 97.1167,\n",
    "    'S': 87.0782,\n",
    "    'T': 101.1051,\n",
    "    'W': 186.2132,\n",
    "    'Y': 163.1760,\n",
    "    'V': 99.1326,\n",
    "    'K': 128.1741, \n",
    "}\n",
    "allowed_aa_list = [\"A\", \"R\", \"N\", \"D\", \"C\", \"Q\", \"E\", \"G\",\"H\", \"I\", \"L\", \"K\", \"M\", \"F\", \"P\", \"S\", \"T\", \"W\", \"Y\", \"V\"]"
   ]
  },
  {
   "cell_type": "code",
   "execution_count": 5,
   "metadata": {},
   "outputs": [
    {
     "data": {
      "application/vnd.jupyter.widget-view+json": {
       "model_id": "0db5c10b2bba415d9012699d01e59301",
       "version_major": 2,
       "version_minor": 0
      },
      "text/plain": [
       "Text(value='', placeholder='Input your sequence please')"
      ]
     },
     "metadata": {},
     "output_type": "display_data"
    },
    {
     "data": {
      "application/vnd.jupyter.widget-view+json": {
       "model_id": "d5afe82c2ad84383a707317426397b1a",
       "version_major": 2,
       "version_minor": 0
      },
      "text/plain": [
       "Text(value='', placeholder='Input your cutoff please')"
      ]
     },
     "metadata": {},
     "output_type": "display_data"
    },
    {
     "name": "stdout",
     "output_type": "stream",
     "text": [
      "Input your sequence in the window below\n"
     ]
    },
    {
     "data": {
      "application/vnd.jupyter.widget-view+json": {
       "model_id": "f6543444b6554ca594c83f9997d651bd",
       "version_major": 2,
       "version_minor": 0
      },
      "text/plain": [
       "Button(description='Submit your sequence', style=ButtonStyle())"
      ]
     },
     "metadata": {},
     "output_type": "display_data"
    },
    {
     "data": {
      "application/vnd.jupyter.widget-view+json": {
       "model_id": "f9ca49c4842842e78a0f44d1be92b3ee",
       "version_major": 2,
       "version_minor": 0
      },
      "text/plain": [
       "Output(outputs=({'output_type': 'stream', 'text': '\\nin the sequence 1 we found non-amino acid symbol: J\\nwe r…"
      ]
     },
     "metadata": {},
     "output_type": "display_data"
    }
   ],
   "source": [
    "@output.capture(clear_output=False,wait=True) # based on https://github.com/jupyter-widgets/ipywidgets/issues/1846 and https://ipywidgets.readthedocs.io/en/latest/examples/Output%20Widget.html\n",
    "def savesequence(b):\n",
    "    i=0\n",
    "    weight = 18.01524\n",
    "    filename = 'results.csv'\n",
    "    # weight = 18.01524\n",
    "    title = \"Click here to download\"\n",
    "    sequences = str(sequen.value)\n",
    "    cutofv = int(cutoff.value)\n",
    "    sequences = sequences.upper()\n",
    "    sequences = list(sequences.split(\";\"))\n",
    "    for sequence in sequences:\n",
    "        x = sequence.replace(' ', '')\n",
    "        newseq.append(x)\n",
    "\n",
    "    for sequence in newseq:\n",
    "        if sequence == '':\n",
    "            newseq.remove('')\n",
    "    for sequence in newseq:\n",
    "        i+=1\n",
    "        for aa in sequence:\n",
    "            if aa not in allowed_aa_list:\n",
    "                print(Fore.MAGENTA + Style.BRIGHT)\n",
    "                print(f\"in the sequence {i} we found non-amino acid symbol: {aa}\")\n",
    "                print(\"we removed it\")\n",
    "                sequence = sequence.replace(aa, \"\")\n",
    "        newnewseq.append(sequence)\n",
    "    #print(newnewseq)\n",
    "    results = [['Result sequence', 'MW Da','positions', 'Original sequence']]\n",
    "\n",
    "# So that we can have more than one sequence\n",
    "\n",
    "    for sequence in newnewseq:\n",
    "        for aa_position in tqdm(range(0, len(sequence)+1)):\n",
    "            for i in range(aa_position, len(sequence)+1):\n",
    "                positions = (aa_position+1, i)\n",
    "                \n",
    "                fragment = sequence[aa_position:i]\n",
    "                if len(fragment) >= cutofv:\n",
    "                    #weight = 18.01524\n",
    "                \n",
    "                # Calculates the mw\n",
    "                    for aa in fragment:\n",
    "                        weight += molecular_weight[aa]\n",
    "                #print(fragment, weight)\n",
    "                \n",
    "                # Saving the results\n",
    "                    results.append([fragment, weight, positions, sequence])\n",
    "    df = pd.DataFrame(results)\n",
    "    #print(df)\n",
    "    df.to_csv('results.csv')\n",
    "    \n",
    "   # def create_download_link(filename, title = \"Click here to download: \"):  \n",
    "    data = open(filename, \"rb\").read()\n",
    "    b64 = base64.b64encode(data)\n",
    "    payload = b64.decode()\n",
    "    \n",
    "    html = '<a download=\"results.csv\" href=\"data:text/csv;base64,{payload}\" target=\"_blank\">{title}</a>'\n",
    "    html = html.format(payload=payload,title=title+f' {filename}',filename=filename)\n",
    "    display(HTML(html))\n",
    "sequen = widgets.Text(placeholder='Input your sequence please')\n",
    "display(sequen)\n",
    "cutoff = widgets.Text(placeholder='Input your cutoff please')\n",
    "display(cutoff)\n",
    "run_button = widgets.Button(\n",
    "      description = 'Submit your sequence'\n",
    ")\n",
    "print(\"Input your sequence in the window below\")\n",
    "run_button.on_click(savesequence)\n",
    "display(run_button)\n",
    "output"
   ]
  },
  {
   "cell_type": "code",
   "execution_count": null,
   "metadata": {},
   "outputs": [],
   "source": []
  }
 ],
 "metadata": {
  "kernelspec": {
   "display_name": "Python 3",
   "language": "python",
   "name": "python3"
  },
  "language_info": {
   "codemirror_mode": {
    "name": "ipython",
    "version": 3
   },
   "file_extension": ".py",
   "mimetype": "text/x-python",
   "name": "python",
   "nbconvert_exporter": "python",
   "pygments_lexer": "ipython3",
   "version": "3.7.4"
  }
 },
 "nbformat": 4,
 "nbformat_minor": 2
}
